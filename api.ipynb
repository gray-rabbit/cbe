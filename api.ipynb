{
 "cells": [
  {
   "cell_type": "code",
   "execution_count": null,
   "metadata": {},
   "outputs": [],
   "source": [
    "#requests 라이브러리 다운로드\n",
    "%pip install requests"
   ]
  },
  {
   "cell_type": "code",
   "execution_count": 2,
   "metadata": {},
   "outputs": [],
   "source": [
    "import requests #requests 라이브러리 임포트"
   ]
  },
  {
   "cell_type": "code",
   "execution_count": 4,
   "metadata": {},
   "outputs": [],
   "source": [
    "#단재연수원에 get 요청\n",
    "r = requests.get(\"https://edu.cbe.go.kr/\")"
   ]
  },
  {
   "cell_type": "code",
   "execution_count": 9,
   "metadata": {},
   "outputs": [],
   "source": [
    "print(r.text, file=open(\"a.html\",\"w\"))"
   ]
  },
  {
   "cell_type": "code",
   "execution_count": 34,
   "metadata": {},
   "outputs": [
    {
     "data": {
      "text/plain": [
       "'7003849'"
      ]
     },
     "execution_count": 34,
     "metadata": {},
     "output_type": "execute_result"
    }
   ],
   "source": [
    "#학교정보 api url \n",
    "url = \"https://open.neis.go.kr/hub/schoolInfo\"\n",
    "params = {#파라미터 사전\n",
    "    \"Type\":\"json\",\n",
    "    \"SCHUL_NM\":\"월곡초\",\n",
    "    \"ATPT_OFCDC_SC_CODE\":\"M10\"\n",
    "}\n",
    "r = requests.get(url,params=params)\n",
    "scode =r.json()['schoolInfo'][1]['row'][0][\"SD_SCHUL_CODE\"]\n",
    "scode"
   ]
  },
  {
   "cell_type": "code",
   "execution_count": 47,
   "metadata": {},
   "outputs": [
    {
     "name": "stdout",
     "output_type": "stream",
     "text": [
      "단호박카레라이스* 2561012131618)\n",
      "팽이두부된장국 568918)\n",
      "오이양파무침* 5613)\n",
      "허브치킨구이+ 1256101516)\n",
      "방울토마토* 12)\n",
      "우유* 2)\n",
      "자율배식대배추김치)* 9)\n"
     ]
    }
   ],
   "source": [
    "url = \"https://open.neis.go.kr/hub/mealServiceDietInfo\"\n",
    "\"https://open.neis.go.kr/hub/mealServiceDietInfo?ATPT_OFCDC_SC_CODE=T10&SD_SCHUL_CODE=9290083&MLSV_YMD=202202\"\n",
    "params= {\n",
    "    \"Type\":\"json\",\n",
    "    \"SD_SCHUL_CODE\":scode,\n",
    "    \"MLSV_YMD\":\"20240103\",\n",
    "    \"ATPT_OFCDC_SC_CODE\":\"M10\"\n",
    "}\n",
    "r = requests.get(url,params=params) #get 요청\n",
    "\n",
    "meal_raw = r.json()[\"mealServiceDietInfo\"][1][\"row\"][0][\"DDISH_NM\"]\n",
    "meal = meal_raw.replace(\"<br/>\",\"\\n\").replace(\".\",\"\").replace(\"(\",\"\")\n",
    "print(meal)"
   ]
  },
  {
   "cell_type": "code",
   "execution_count": null,
   "metadata": {},
   "outputs": [],
   "source": []
  }
 ],
 "metadata": {
  "kernelspec": {
   "display_name": "Python 3",
   "language": "python",
   "name": "python3"
  },
  "language_info": {
   "codemirror_mode": {
    "name": "ipython",
    "version": 3
   },
   "file_extension": ".py",
   "mimetype": "text/x-python",
   "name": "python",
   "nbconvert_exporter": "python",
   "pygments_lexer": "ipython3",
   "version": "3.10.13"
  }
 },
 "nbformat": 4,
 "nbformat_minor": 2
}
