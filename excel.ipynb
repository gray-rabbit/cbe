{
 "cells": [
  {
   "cell_type": "code",
   "execution_count": null,
   "metadata": {},
   "outputs": [],
   "source": [
    "#엑셀을 제어하는 라이브러리\n",
    "%pip install openpyxl"
   ]
  },
  {
   "cell_type": "code",
   "execution_count": 1,
   "metadata": {},
   "outputs": [],
   "source": [
    "import openpyxl"
   ]
  },
  {
   "cell_type": "code",
   "execution_count": 3,
   "metadata": {},
   "outputs": [],
   "source": [
    "#엑셀파일을 만드는 것!\n",
    "wb = openpyxl.Workbook()"
   ]
  },
  {
   "cell_type": "code",
   "execution_count": 4,
   "metadata": {},
   "outputs": [],
   "source": [
    "#시트 만들기!\n",
    "sh = wb.create_sheet(\"파이썬시트!\")"
   ]
  },
  {
   "cell_type": "code",
   "execution_count": 5,
   "metadata": {},
   "outputs": [],
   "source": [
    "#파일을 저장\n",
    "wb.save(\"text.xlsx\")"
   ]
  },
  {
   "cell_type": "code",
   "execution_count": 11,
   "metadata": {},
   "outputs": [
    {
     "name": "stderr",
     "output_type": "stream",
     "text": [
      "/tmp/ipykernel_37513/3743901269.py:1: DeprecationWarning: Call to deprecated function get_sheet_by_name (Use wb[sheetname]).\n",
      "  mysh = wb.get_sheet_by_name(\"파이썬시트!\")\n"
     ]
    }
   ],
   "source": [
    "#시트를 이름으로 가져오기\n",
    "mysh = wb.get_sheet_by_name(\"파이썬시트!\")"
   ]
  },
  {
   "cell_type": "code",
   "execution_count": 12,
   "metadata": {},
   "outputs": [],
   "source": [
    "mysh[\"A1\"] = \"언어\"\n",
    "mysh[\"A2\"] = \"파이썬\"\n",
    "\n",
    "mysh[\"B1\"] = \"친밀도\"\n",
    "mysh[\"B2\"] = \"매우 친함\""
   ]
  },
  {
   "cell_type": "code",
   "execution_count": 13,
   "metadata": {},
   "outputs": [],
   "source": [
    "wb.save(\"text.xlsx\")"
   ]
  },
  {
   "cell_type": "code",
   "execution_count": 16,
   "metadata": {},
   "outputs": [
    {
     "data": {
      "text/plain": [
       "'친밀도'"
      ]
     },
     "execution_count": 16,
     "metadata": {},
     "output_type": "execute_result"
    }
   ],
   "source": [
    "mysh[\"B1\"].value"
   ]
  },
  {
   "cell_type": "code",
   "execution_count": 23,
   "metadata": {},
   "outputs": [],
   "source": [
    "#값을 쓰는것!\n",
    "for i in range(1,11):\n",
    "    mysh.cell(1, i).value = i"
   ]
  },
  {
   "cell_type": "code",
   "execution_count": null,
   "metadata": {},
   "outputs": [],
   "source": [
    "for i in range(1,11):\n",
    "    print(mysh.cell(1,i).value)"
   ]
  },
  {
   "cell_type": "code",
   "execution_count": 2,
   "metadata": {},
   "outputs": [],
   "source": [
    "#파일에서 wb 불러오기\n",
    "wb = openpyxl.load_workbook(\"text.xlsx\")"
   ]
  },
  {
   "cell_type": "code",
   "execution_count": 5,
   "metadata": {},
   "outputs": [
    {
     "name": "stderr",
     "output_type": "stream",
     "text": [
      "/tmp/ipykernel_46283/3290766571.py:2: DeprecationWarning: Call to deprecated function get_sheet_by_name (Use wb[sheetname]).\n",
      "  sh = wb.get_sheet_by_name(\"Sheet\")\n"
     ]
    }
   ],
   "source": [
    "#시트를 불러온다.\n",
    "sh = wb.get_sheet_by_name(\"Sheet\")\n",
    "#활성화된 시트를 부르는 코드는\n",
    "#sh = wb.active"
   ]
  },
  {
   "cell_type": "code",
   "execution_count": 6,
   "metadata": {},
   "outputs": [
    {
     "data": {
      "text/plain": [
       "'이름'"
      ]
     },
     "execution_count": 6,
     "metadata": {},
     "output_type": "execute_result"
    }
   ],
   "source": [
    "sh[\"A1\"].value  "
   ]
  },
  {
   "cell_type": "code",
   "execution_count": 24,
   "metadata": {},
   "outputs": [
    {
     "data": {
      "text/plain": [
       "['하', '중', '상', '하', '하', '중', '상', '하', '상']"
      ]
     },
     "execution_count": 24,
     "metadata": {},
     "output_type": "execute_result"
    }
   ],
   "source": [
    "이름들 = []\n",
    "점수들 = []\n",
    "상중하 = []\n",
    "for r in sh.rows:\n",
    "    이름들.append(r[0].value)\n",
    "    점수들.append(r[1].value)\n",
    "    try:\n",
    "        if int(r[1].value)>=90:\n",
    "            상중하.append(\"상\")\n",
    "        elif int(r[1].value)>=80:\n",
    "            상중하.append(\"중\")\n",
    "        else:\n",
    "            상중하.append(\"하\")\n",
    "    except:\n",
    "        pass\n",
    "이름들,점수들 = tuple(이름들[1:]),tuple(점수들[1:])\n",
    "상중하"
   ]
  },
  {
   "cell_type": "code",
   "execution_count": null,
   "metadata": {},
   "outputs": [],
   "source": []
  }
 ],
 "metadata": {
  "kernelspec": {
   "display_name": "Python 3",
   "language": "python",
   "name": "python3"
  },
  "language_info": {
   "codemirror_mode": {
    "name": "ipython",
    "version": 3
   },
   "file_extension": ".py",
   "mimetype": "text/x-python",
   "name": "python",
   "nbconvert_exporter": "python",
   "pygments_lexer": "ipython3",
   "version": "3.10.13"
  }
 },
 "nbformat": 4,
 "nbformat_minor": 2
}
