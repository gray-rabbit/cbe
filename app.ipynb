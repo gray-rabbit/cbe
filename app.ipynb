{
 "cells": [
  {
   "cell_type": "code",
   "execution_count": null,
   "metadata": {},
   "outputs": [],
   "source": [
    "#리스트\n",
    "l = [1,2,3,4,5]\n",
    "l.append(6)\n",
    "l.pop()\n",
    "len(l)"
   ]
  },
  {
   "cell_type": "code",
   "execution_count": null,
   "metadata": {},
   "outputs": [],
   "source": [
    "#반복문\n",
    "# for 변수명 in 반복할 자료:\n",
    "for i in l:\n",
    "    print(i, end=\"🥞\" , file=open(\"a.txt\",\"a\" ) ) #줄을 바꾸지 말고, 한줄에 출력하기!"
   ]
  },
  {
   "cell_type": "code",
   "execution_count": null,
   "metadata": {},
   "outputs": [],
   "source": [
    "#1부터 10까지 출력하기\n",
    "a = 0 #1부터 10까지의 짝수의 합을 저장할 변수\n",
    "for i in range(1,11,2):\n",
    "    a = a + i\n",
    "print(a)"
   ]
  },
  {
   "cell_type": "code",
   "execution_count": null,
   "metadata": {},
   "outputs": [],
   "source": [
    "sum(list(range(11)))"
   ]
  },
  {
   "cell_type": "code",
   "execution_count": 3,
   "metadata": {},
   "outputs": [
    {
     "name": "stdout",
     "output_type": "stream",
     "text": [
      "집에가고싶다..\n",
      "이것도 반복문\n",
      "이것도 반복문\n",
      "이것도 반복문\n",
      "이것도 반복문\n",
      "이것도 반복문\n",
      "이것도 반복문\n",
      "이것도 반복문\n",
      "이것도 반복문\n",
      "이것도 반복문\n",
      "이것도 반복문\n"
     ]
    }
   ],
   "source": [
    "while True: #조건에 따라 반복\n",
    "    print(\"집에가고싶다..\")\n",
    "    break\n",
    "\n",
    "for _ in range(10): #자료에 따라 반복\n",
    "    print(\"이것도 반복문\")"
   ]
  },
  {
   "cell_type": "code",
   "execution_count": 27,
   "metadata": {},
   "outputs": [
    {
     "name": "stdout",
     "output_type": "stream",
     "text": [
      "기아\n",
      "현대\n",
      "BMW\n",
      "Audi\n",
      "Toyota\n"
     ]
    }
   ],
   "source": [
    "cars = [\"기아\",\"현대\",\"bmw\", \"audi\", \"toyota\"]\n",
    "for car in cars:\n",
    "    if car == \"bmw\":\n",
    "        print(car.upper())\n",
    "    else:\n",
    "        print(car.title())"
   ]
  },
  {
   "cell_type": "code",
   "execution_count": 33,
   "metadata": {},
   "outputs": [
    {
     "data": {
      "text/plain": [
       "(True, False)"
      ]
     },
     "execution_count": 33,
     "metadata": {},
     "output_type": "execute_result"
    }
   ],
   "source": [
    "score = 90\n",
    "#같다          #같지 않다\n",
    "score == 90 , score != 90 "
   ]
  },
  {
   "cell_type": "code",
   "execution_count": 37,
   "metadata": {},
   "outputs": [
    {
     "data": {
      "text/plain": [
       "True"
      ]
     },
     "execution_count": 37,
     "metadata": {},
     "output_type": "execute_result"
    }
   ],
   "source": [
    "우리반학생 = [\"박창순\",\"이형석\",\"박성준\"]\n",
    "\"이순신\" not in 우리반학생 #우리반학생에 박성준이 없지?"
   ]
  },
  {
   "cell_type": "code",
   "execution_count": 51,
   "metadata": {},
   "outputs": [
    {
     "name": "stdout",
     "output_type": "stream",
     "text": [
      "게임오버\n"
     ]
    }
   ],
   "source": [
    "game_over = [1]\n",
    "if game_over: #game_over가 True라면\n",
    "    print(\"게임오버\")\n",
    "else:\n",
    "    print(\"게임중\")"
   ]
  },
  {
   "cell_type": "code",
   "execution_count": 42,
   "metadata": {},
   "outputs": [
    {
     "data": {
      "text/plain": [
       "True"
      ]
     },
     "execution_count": 42,
     "metadata": {},
     "output_type": "execute_result"
    }
   ],
   "source": [
    "game_over == True"
   ]
  },
  {
   "cell_type": "code",
   "execution_count": 59,
   "metadata": {},
   "outputs": [
    {
     "name": "stdout",
     "output_type": "stream",
     "text": [
      "상\n",
      "중\n",
      "하\n",
      "하\n",
      "상\n",
      "중\n",
      "하\n",
      "상\n",
      "상\n",
      "상\n",
      "상\n",
      "상\n",
      "상\n",
      "상\n",
      "상\n",
      "상\n",
      "상\n",
      "상\n",
      "상\n",
      "상\n",
      "상\n",
      "상\n",
      "상\n"
     ]
    }
   ],
   "source": [
    "점수들 = [100,80,54,71,90,87,65,99,100,100,100,100,100,100,100,100,100,100,100,100,100,100,100]\n",
    "#90점 이상은 상, 80점 이상은 중 나머지는 하\n",
    "\n",
    "for 점수 in 점수들:\n",
    "    if 점수 >= 90:\n",
    "        print(\"상\")\n",
    "    elif 점수 >= 80:\n",
    "        print(\"중\")\n",
    "    else:\n",
    "        print(\"하\")"
   ]
  },
  {
   "cell_type": "code",
   "execution_count": 37,
   "metadata": {},
   "outputs": [],
   "source": [
    "나 = {\n",
    "    \"이름\" :\"박성준\",\n",
    "    \"학교\":\"월곡초\",\n",
    "    \"나이\": 40,\n",
    "    \"취미\":[\"코딩\", \"유튜브\", \"게임\"],\n",
    "    0:\"이것도 가능?\",\n",
    "}"
   ]
  },
  {
   "cell_type": "code",
   "execution_count": 56,
   "metadata": {},
   "outputs": [
    {
     "name": "stdout",
     "output_type": "stream",
     "text": [
      "키는 이름이고, 값은 박성준입니다.\n",
      "키는 학교이고, 값은 월곡초입니다.\n",
      "키는 나이이고, 값은 40입니다.\n",
      "키는 취미이고, 값은 ['코딩', '유튜브', '게임']입니다.\n",
      "키는 0이고, 값은 이것도 가능?입니다.\n"
     ]
    }
   ],
   "source": [
    "나.keys() #키만 추출\n",
    "나.values() #값만 추출\n",
    "나.items() #키와 값을 추출\n",
    "for k,v in 나.items():\n",
    "    print(f\"키는 {k}이고, 값은 {v}입니다.\")"
   ]
  },
  {
   "cell_type": "code",
   "execution_count": 51,
   "metadata": {},
   "outputs": [
    {
     "data": {
      "text/plain": [
       "'박성준'"
      ]
     },
     "execution_count": 51,
     "metadata": {},
     "output_type": "execute_result"
    }
   ],
   "source": []
  },
  {
   "cell_type": "code",
   "execution_count": null,
   "metadata": {},
   "outputs": [],
   "source": []
  }
 ],
 "metadata": {
  "kernelspec": {
   "display_name": "Python 3",
   "language": "python",
   "name": "python3"
  },
  "language_info": {
   "codemirror_mode": {
    "name": "ipython",
    "version": 3
   },
   "file_extension": ".py",
   "mimetype": "text/x-python",
   "name": "python",
   "nbconvert_exporter": "python",
   "pygments_lexer": "ipython3",
   "version": "3.10.13"
  }
 },
 "nbformat": 4,
 "nbformat_minor": 2
}
